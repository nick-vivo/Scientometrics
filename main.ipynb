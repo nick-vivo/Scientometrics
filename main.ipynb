{
 "cells": [
  {
   "cell_type": "code",
   "execution_count": 1,
   "metadata": {},
   "outputs": [],
   "source": [
    "from module.TableHandler import TableHandler as Th\n",
    "import matplotlib.pyplot as plt\n",
    "\n",
    "pathForFile = \"resource/Selection/Научениеметрия (ОТС)_образец.xlsx\"\n",
    "\n",
    "grades = [\"2. Ваша оценка по ТАА№1 Контрольная работа №1 (от 0 до 11)\", \n",
    "            \"4. Ваша оценка по ТАА№2 Контрольная работа №2 (от 0 до 11)\",\n",
    "            \"6. Ваша оценка по ТТК№1 Тест (от 0 до 11)\",\n",
    "            \"8. Ваша оценка по ТТК№2 Тест (от 0 до 11)\", \n",
    "            \"10. Ваша оценка по Статистическому диктанту (от 0 до 4)\",\n",
    "            \"12. Ваша оценка за Кейс&ДИ Анкета (от 0 до 5)\", \n",
    "            \"14. Ваша оценка за Кейс Ряды динамики (от 0 до 6)\"]\n",
    "\n",
    "testScope = [\"3. Какова ваша оценка ТАА№1 Контрольной работе  ( на сколько понравилась: 0 - совсем не понравилась, 11 - очень понравилась)?\", \n",
    "             \"5. Какова ваша оценка ТАА№2 Контрольной работе  ( на сколько понравилась: 0 - совсем не понравилась, 11 - очень понравилась)?\",\n",
    "             \"7. Какова ваша оценка ТТК №1 Тесту  ( на сколько понравился: 0 - совсем не понравился, 11 - очень понравился)?\",\n",
    "             \"9. Какова ваша оценка ТТК №2 Тесту  ( на сколько понравился: 0 - совсем не понравился, 11 - очень понравился)?\", \n",
    "             \"11. Какова ваша оценка Статистическому диктанту ( на сколько понравился: 0 - совсем не понравился, 4 - очень понравился)?\",\n",
    "             \"13. Какова ваша оценка Кейсу&ДИ Анкета (на сколько понравился: 0 - совсем не понравился, 5 - очень понравился)?\", \n",
    "             \"15. Какова ваша оценка Кейсу Ряды динамики (на сколько понравился: 0 - совсем не понравился, 6 - очень понравился)?\"]\n",
    "\n",
    "studentsNamesHeader = \"п/п\"\n",
    "\n",
    "questionBenefits = \"17. Какими средствами обучения вы преимущественно пользовались?\"\n",
    "\n",
    "typesBenefitsForPng = ['Электронные учебники', \n",
    "                       'Рабочие тетради', \n",
    "                       'Видеолекции', \n",
    "                       'Печатные учебники']\n",
    "\n",
    "typesBenefitsInDataTable = ['Электронными учебниками',\n",
    "                            'Рабочими тетрадями',\n",
    "                            'Видеолекциями', \n",
    "                            'Печатными учебниками']\n",
    "\n",
    "\n",
    "\n",
    "gradesStudentsAndScopesTest = grades + testScope\n",
    "\n",
    "\n"
   ]
  },
  {
   "cell_type": "code",
   "execution_count": 2,
   "metadata": {},
   "outputs": [
    {
     "ename": "BadTable",
     "evalue": "Ошибка в вводе данных таблицы: Количество вопросов не совпадает с количеством оценок тестов",
     "output_type": "error",
     "traceback": [
      "\u001b[0;31m---------------------------------------------------------------------------\u001b[0m",
      "\u001b[0;31mBadTable\u001b[0m                                  Traceback (most recent call last)",
      "Cell \u001b[0;32mIn[2], line 1\u001b[0m\n\u001b[0;32m----> 1\u001b[0m cl \u001b[38;5;241m=\u001b[39m \u001b[43mTh\u001b[49m\u001b[43m(\u001b[49m\u001b[43mpathForFile\u001b[49m\u001b[43m,\u001b[49m\u001b[43m \u001b[49m\u001b[43mgradesStudentsAndScopesTest\u001b[49m\u001b[43m,\u001b[49m\u001b[43m \u001b[49m\u001b[43mgrades\u001b[49m\u001b[43m,\u001b[49m\u001b[43m \u001b[49m\u001b[43mtestScope\u001b[49m\u001b[43m,\u001b[49m\u001b[43m \u001b[49m\u001b[43mstudentsNamesHeader\u001b[49m\u001b[43m)\u001b[49m\n",
      "File \u001b[0;32m~/Projects/Научениеметрия/module/TableHandler.py:102\u001b[0m, in \u001b[0;36mTableHandler.__init__\u001b[0;34m(self, path_to_table, headers, headersGrades, headersTestScore, headerNamesStudents)\u001b[0m\n\u001b[1;32m     98\u001b[0m \u001b[38;5;28;01mdef\u001b[39;00m \u001b[38;5;21m__init__\u001b[39m(\u001b[38;5;28mself\u001b[39m, path_to_table: \u001b[38;5;28mstr\u001b[39m, headers: List[\u001b[38;5;28mstr\u001b[39m], \n\u001b[1;32m     99\u001b[0m              headersGrades: List[\u001b[38;5;28mstr\u001b[39m], headersTestScore: List[\u001b[38;5;28mstr\u001b[39m], \n\u001b[1;32m    100\u001b[0m              headerNamesStudents: \u001b[38;5;28mstr\u001b[39m \u001b[38;5;241m=\u001b[39m \u001b[38;5;124m\"\u001b[39m\u001b[38;5;124m\"\u001b[39m):\n\u001b[0;32m--> 102\u001b[0m     \u001b[43mTableHandler\u001b[49m\u001b[38;5;241;43m.\u001b[39;49m\u001b[43mcheck_table\u001b[49m\u001b[43m(\u001b[49m\u001b[43mpath_to_table\u001b[49m\u001b[43m,\u001b[49m\u001b[43m \u001b[49m\u001b[43mheaders\u001b[49m\u001b[43m,\u001b[49m\u001b[43m \u001b[49m\n\u001b[1;32m    103\u001b[0m \u001b[43m                             \u001b[49m\u001b[43mheadersGrades\u001b[49m\u001b[43m,\u001b[49m\u001b[43m \u001b[49m\u001b[43mheadersTestScore\u001b[49m\u001b[43m)\u001b[49m\n\u001b[1;32m    105\u001b[0m     \u001b[38;5;28mself\u001b[39m\u001b[38;5;241m.\u001b[39m__headers \u001b[38;5;241m=\u001b[39m \u001b[38;5;28mlist\u001b[39m(headers)\n\u001b[1;32m    107\u001b[0m     \u001b[38;5;28mself\u001b[39m\u001b[38;5;241m.\u001b[39m__headersGradesStudents \u001b[38;5;241m=\u001b[39m \u001b[38;5;28mlist\u001b[39m(headersGrades)\n",
      "File \u001b[0;32m~/Projects/Научениеметрия/module/TableHandler.py:51\u001b[0m, in \u001b[0;36mTableHandler.check_table\u001b[0;34m(path_to_table, headers, headersGrades, headersTestScope)\u001b[0m\n\u001b[1;32m     48\u001b[0m headersTable \u001b[38;5;241m=\u001b[39m [cell\u001b[38;5;241m.\u001b[39mvalue \u001b[38;5;28;01mfor\u001b[39;00m cell \u001b[38;5;129;01min\u001b[39;00m \u001b[38;5;28mnext\u001b[39m(worksheet\u001b[38;5;241m.\u001b[39miter_rows())]\n\u001b[1;32m     50\u001b[0m \u001b[38;5;28;01mif\u001b[39;00m \u001b[38;5;28mlen\u001b[39m(headersGrades) \u001b[38;5;241m!=\u001b[39m \u001b[38;5;28mlen\u001b[39m(headersTestScope):\n\u001b[0;32m---> 51\u001b[0m     \u001b[38;5;28;01mraise\u001b[39;00m BadTable(\u001b[38;5;124m\"\u001b[39m\u001b[38;5;124mКоличество вопросов не совпадает с количеством оценок тестов\u001b[39m\u001b[38;5;124m\"\u001b[39m)\n\u001b[1;32m     52\u001b[0m \u001b[38;5;28;01melif\u001b[39;00m \u001b[38;5;28mlen\u001b[39m(headersGrades) \u001b[38;5;241m==\u001b[39m \u001b[38;5;241m0\u001b[39m:\n\u001b[1;32m     53\u001b[0m     \u001b[38;5;28;01mraise\u001b[39;00m BadTable(\u001b[38;5;124m\"\u001b[39m\u001b[38;5;124mКоличество вопросов не может быть нулевым, проверь таблицу\u001b[39m\u001b[38;5;124m\"\u001b[39m)\n",
      "\u001b[0;31mBadTable\u001b[0m: Ошибка в вводе данных таблицы: Количество вопросов не совпадает с количеством оценок тестов"
     ]
    }
   ],
   "source": [
    "cl = Th(pathForFile, gradesStudentsAndScopesTest, grades, testScope, studentsNamesHeader)"
   ]
  },
  {
   "cell_type": "code",
   "execution_count": null,
   "metadata": {},
   "outputs": [],
   "source": [
    "cl.createTableGradesStudentsToView()"
   ]
  },
  {
   "cell_type": "code",
   "execution_count": null,
   "metadata": {},
   "outputs": [],
   "source": [
    "cl.createTableGradesTestToView()"
   ]
  },
  {
   "cell_type": "code",
   "execution_count": null,
   "metadata": {},
   "outputs": [],
   "source": [
    "cl.createTableLtiLsti()"
   ]
  },
  {
   "cell_type": "code",
   "execution_count": null,
   "metadata": {},
   "outputs": [],
   "source": [
    "cl.export_TableConclusion(\"file.xlsx\", \"./conc\",  nameColumnStudents=studentsNamesHeader)\n",
    "\n",
    "cl.export_PngConslission(\"./conc\", headerBenefitsQuestionInDataTable=questionBenefits, typesBenefitsForPng=typesBenefitsForPng, typesBenefitsInDataTable=typesBenefitsInDataTable)"
   ]
  }
 ],
 "metadata": {
  "kernelspec": {
   "display_name": "env",
   "language": "python",
   "name": "python3"
  },
  "language_info": {
   "codemirror_mode": {
    "name": "ipython",
    "version": 3
   },
   "file_extension": ".py",
   "mimetype": "text/x-python",
   "name": "python",
   "nbconvert_exporter": "python",
   "pygments_lexer": "ipython3",
   "version": "3.11.6"
  }
 },
 "nbformat": 4,
 "nbformat_minor": 2
}
